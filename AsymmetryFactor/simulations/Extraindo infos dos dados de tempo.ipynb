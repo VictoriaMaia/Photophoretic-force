{
 "cells": [
  {
   "cell_type": "code",
   "execution_count": null,
   "id": "5f855d85-4f29-4150-b464-69c3e92113a4",
   "metadata": {},
   "outputs": [
    {
     "ename": "",
     "evalue": "",
     "output_type": "error",
     "traceback": [
      "\u001b[1;31mA execução de células com '/bin/python3' requer o pacote ipykernel.\n",
      "\u001b[1;31mRun the following command to install 'ipykernel' into the Python environment. \n",
      "\u001b[1;31mCommand: '/bin/python3 -m pip install ipykernel -U --user --force-reinstall'"
     ]
    }
   ],
   "source": [
    "import pandas as pd\n",
    "import numpy as np\n",
    "import matplotlib.pyplot as plt"
   ]
  },
  {
   "cell_type": "code",
   "execution_count": 30,
   "id": "209292e1-a656-4923-8762-ed42f193694b",
   "metadata": {},
   "outputs": [],
   "source": [
    "v1_serial = \"j1_frozen_wave_with_z0_l2_3_values_with_n_max_before_paralelism\"\n",
    "v2_2_j1_paralelizado =  \"j1_frozen_wave_with_z0_l2_3_values_with_n_max_after_parallel\"\n",
    "v2_3_gn_paralelizado = \"j1_frozen_wave_with_z0_l2_3_values_with_n_max_after_gn_parallel\""
   ]
  },
  {
   "cell_type": "code",
   "execution_count": 96,
   "id": "98df0e30-042e-4d58-b39a-649a992d3f8c",
   "metadata": {},
   "outputs": [],
   "source": [
    "v2_2_j1_paralelizado_4_processos = \"j1_frozen_wave_with_z0_l2_l4_and_1_times_3_values_n_max_after_j1_parallel_4_processes\"\n",
    "v2_3_gn_paralelizado_4_processos = \"j1_frozen_wave_with_z0_l2_l4_and_3_values_n_max_after_gn_parallel_4_processes\""
   ]
  },
  {
   "cell_type": "code",
   "execution_count": 78,
   "id": "794a6850-20fe-49b0-9beb-d4a47865ac54",
   "metadata": {},
   "outputs": [],
   "source": [
    "old_results = \"./outputs/time_result/primeira rodada/\"\n",
    "new_results = \"./outputs/time_result/\""
   ]
  },
  {
   "cell_type": "code",
   "execution_count": 97,
   "id": "c15986d7-44dd-4c57-93bd-6f925c27718c",
   "metadata": {},
   "outputs": [],
   "source": [
    "# file_name = v1_serial + \".csv\"\n",
    "# file_name = v2_2_j1_paralelizado + \".csv\"\n",
    "# file_name = v2_2_j1_paralelizado_4_processos + \".csv\"\n",
    "# file_name = v2_3_gn_paralelizado + \".csv\"\n",
    "file_name = v2_3_gn_paralelizado_4_processos + \".csv\"\n",
    "\n",
    "file_result = new_results + file_name\n",
    "# file_result = old_results + file_name\n",
    "\n",
    "tempos = pd.read_csv(file_result)\n",
    "\n",
    "# tempos.head()"
   ]
  },
  {
   "cell_type": "code",
   "execution_count": 98,
   "id": "064d3fda-ca8b-486d-92c8-ebec31368375",
   "metadata": {},
   "outputs": [],
   "source": [
    "tempos = pd.read_csv(file_result)"
   ]
  },
  {
   "cell_type": "code",
   "execution_count": 44,
   "id": "d5546716-53f4-4bf2-94d2-728048047f1a",
   "metadata": {},
   "outputs": [],
   "source": [
    "# tempos.head()"
   ]
  },
  {
   "cell_type": "code",
   "execution_count": 99,
   "id": "4a64b90c-94fb-4a1e-9963-6a5815639ebc",
   "metadata": {},
   "outputs": [
    {
     "data": {
      "text/html": [
       "<div>\n",
       "<style scoped>\n",
       "    .dataframe tbody tr th:only-of-type {\n",
       "        vertical-align: middle;\n",
       "    }\n",
       "\n",
       "    .dataframe tbody tr th {\n",
       "        vertical-align: top;\n",
       "    }\n",
       "\n",
       "    .dataframe thead th {\n",
       "        text-align: right;\n",
       "    }\n",
       "</style>\n",
       "<table border=\"1\" class=\"dataframe\">\n",
       "  <thead>\n",
       "    <tr style=\"text-align: right;\">\n",
       "      <th></th>\n",
       "      <th>execucao</th>\n",
       "      <th>ponto</th>\n",
       "      <th>z</th>\n",
       "      <th>n_max</th>\n",
       "      <th>j1</th>\n",
       "      <th>gn</th>\n",
       "      <th>gn1</th>\n",
       "      <th>ot</th>\n",
       "      <th>op</th>\n",
       "    </tr>\n",
       "  </thead>\n",
       "  <tbody>\n",
       "    <tr>\n",
       "      <th>0</th>\n",
       "      <td>0</td>\n",
       "      <td>0.10</td>\n",
       "      <td>l2</td>\n",
       "      <td>4</td>\n",
       "      <td>6.279164</td>\n",
       "      <td>3.092608</td>\n",
       "      <td>3.182472</td>\n",
       "      <td>0.001576</td>\n",
       "      <td>0.001815</td>\n",
       "    </tr>\n",
       "    <tr>\n",
       "      <th>1</th>\n",
       "      <td>0</td>\n",
       "      <td>0.10</td>\n",
       "      <td>l4</td>\n",
       "      <td>4</td>\n",
       "      <td>6.911367</td>\n",
       "      <td>3.408089</td>\n",
       "      <td>3.498498</td>\n",
       "      <td>0.001970</td>\n",
       "      <td>0.002012</td>\n",
       "    </tr>\n",
       "    <tr>\n",
       "      <th>2</th>\n",
       "      <td>0</td>\n",
       "      <td>10.05</td>\n",
       "      <td>l2</td>\n",
       "      <td>21</td>\n",
       "      <td>35.291971</td>\n",
       "      <td>17.710779</td>\n",
       "      <td>17.557293</td>\n",
       "      <td>0.009817</td>\n",
       "      <td>0.010393</td>\n",
       "    </tr>\n",
       "    <tr>\n",
       "      <th>3</th>\n",
       "      <td>0</td>\n",
       "      <td>10.05</td>\n",
       "      <td>l4</td>\n",
       "      <td>21</td>\n",
       "      <td>33.141482</td>\n",
       "      <td>16.586561</td>\n",
       "      <td>16.533803</td>\n",
       "      <td>0.009030</td>\n",
       "      <td>0.008688</td>\n",
       "    </tr>\n",
       "    <tr>\n",
       "      <th>4</th>\n",
       "      <td>0</td>\n",
       "      <td>20.00</td>\n",
       "      <td>l2</td>\n",
       "      <td>33</td>\n",
       "      <td>49.656861</td>\n",
       "      <td>24.870050</td>\n",
       "      <td>24.756124</td>\n",
       "      <td>0.012517</td>\n",
       "      <td>0.012852</td>\n",
       "    </tr>\n",
       "    <tr>\n",
       "      <th>5</th>\n",
       "      <td>0</td>\n",
       "      <td>20.00</td>\n",
       "      <td>l4</td>\n",
       "      <td>33</td>\n",
       "      <td>49.507878</td>\n",
       "      <td>24.686096</td>\n",
       "      <td>24.792640</td>\n",
       "      <td>0.011973</td>\n",
       "      <td>0.011958</td>\n",
       "    </tr>\n",
       "  </tbody>\n",
       "</table>\n",
       "</div>"
      ],
      "text/plain": [
       "   execucao  ponto   z  n_max         j1         gn        gn1        ot  \\\n",
       "0         0   0.10  l2      4   6.279164   3.092608   3.182472  0.001576   \n",
       "1         0   0.10  l4      4   6.911367   3.408089   3.498498  0.001970   \n",
       "2         0  10.05  l2     21  35.291971  17.710779  17.557293  0.009817   \n",
       "3         0  10.05  l4     21  33.141482  16.586561  16.533803  0.009030   \n",
       "4         0  20.00  l2     33  49.656861  24.870050  24.756124  0.012517   \n",
       "5         0  20.00  l4     33  49.507878  24.686096  24.792640  0.011973   \n",
       "\n",
       "         op  \n",
       "0  0.001815  \n",
       "1  0.002012  \n",
       "2  0.010393  \n",
       "3  0.008688  \n",
       "4  0.012852  \n",
       "5  0.011958  "
      ]
     },
     "execution_count": 99,
     "metadata": {},
     "output_type": "execute_result"
    }
   ],
   "source": [
    "tempos"
   ]
  },
  {
   "cell_type": "code",
   "execution_count": 100,
   "id": "becce633-f97e-4b42-b01b-b1e31279a0bd",
   "metadata": {},
   "outputs": [],
   "source": [
    "tempos = tempos[tempos[\"z\"] == \"l2\"]"
   ]
  },
  {
   "cell_type": "code",
   "execution_count": 101,
   "id": "385a91a8-4385-4ec3-bf02-cda2879c87ed",
   "metadata": {},
   "outputs": [
    {
     "data": {
      "text/html": [
       "<div>\n",
       "<style scoped>\n",
       "    .dataframe tbody tr th:only-of-type {\n",
       "        vertical-align: middle;\n",
       "    }\n",
       "\n",
       "    .dataframe tbody tr th {\n",
       "        vertical-align: top;\n",
       "    }\n",
       "\n",
       "    .dataframe thead th {\n",
       "        text-align: right;\n",
       "    }\n",
       "</style>\n",
       "<table border=\"1\" class=\"dataframe\">\n",
       "  <thead>\n",
       "    <tr style=\"text-align: right;\">\n",
       "      <th></th>\n",
       "      <th>execucao</th>\n",
       "      <th>ponto</th>\n",
       "      <th>z</th>\n",
       "      <th>n_max</th>\n",
       "      <th>j1</th>\n",
       "      <th>gn</th>\n",
       "      <th>gn1</th>\n",
       "      <th>ot</th>\n",
       "      <th>op</th>\n",
       "    </tr>\n",
       "  </thead>\n",
       "  <tbody>\n",
       "    <tr>\n",
       "      <th>0</th>\n",
       "      <td>0</td>\n",
       "      <td>0.10</td>\n",
       "      <td>l2</td>\n",
       "      <td>4</td>\n",
       "      <td>6.279164</td>\n",
       "      <td>3.092608</td>\n",
       "      <td>3.182472</td>\n",
       "      <td>0.001576</td>\n",
       "      <td>0.001815</td>\n",
       "    </tr>\n",
       "    <tr>\n",
       "      <th>2</th>\n",
       "      <td>0</td>\n",
       "      <td>10.05</td>\n",
       "      <td>l2</td>\n",
       "      <td>21</td>\n",
       "      <td>35.291971</td>\n",
       "      <td>17.710779</td>\n",
       "      <td>17.557293</td>\n",
       "      <td>0.009817</td>\n",
       "      <td>0.010393</td>\n",
       "    </tr>\n",
       "    <tr>\n",
       "      <th>4</th>\n",
       "      <td>0</td>\n",
       "      <td>20.00</td>\n",
       "      <td>l2</td>\n",
       "      <td>33</td>\n",
       "      <td>49.656861</td>\n",
       "      <td>24.870050</td>\n",
       "      <td>24.756124</td>\n",
       "      <td>0.012517</td>\n",
       "      <td>0.012852</td>\n",
       "    </tr>\n",
       "  </tbody>\n",
       "</table>\n",
       "</div>"
      ],
      "text/plain": [
       "   execucao  ponto   z  n_max         j1         gn        gn1        ot  \\\n",
       "0         0   0.10  l2      4   6.279164   3.092608   3.182472  0.001576   \n",
       "2         0  10.05  l2     21  35.291971  17.710779  17.557293  0.009817   \n",
       "4         0  20.00  l2     33  49.656861  24.870050  24.756124  0.012517   \n",
       "\n",
       "         op  \n",
       "0  0.001815  \n",
       "2  0.010393  \n",
       "4  0.012852  "
      ]
     },
     "execution_count": 101,
     "metadata": {},
     "output_type": "execute_result"
    }
   ],
   "source": [
    "tempos"
   ]
  },
  {
   "cell_type": "code",
   "execution_count": 86,
   "id": "10ce05a6-ecc5-4e3b-9be2-a49924218c80",
   "metadata": {},
   "outputs": [],
   "source": [
    "# tempos = tempos.drop(index=3)"
   ]
  },
  {
   "cell_type": "markdown",
   "id": "4fc79dff-1f0b-4503-9983-05757badf4f0",
   "metadata": {},
   "source": [
    "Calcular a media"
   ]
  },
  {
   "cell_type": "code",
   "execution_count": 19,
   "id": "267d22c2-a6d5-49a8-89c5-98ad21949f0d",
   "metadata": {},
   "outputs": [],
   "source": [
    "def media(col_name):\n",
    "    return tempos[col_name].mean()"
   ]
  },
  {
   "cell_type": "code",
   "execution_count": 17,
   "id": "f24a1a5f-eda5-4b47-91d1-7f87b8eb142b",
   "metadata": {},
   "outputs": [],
   "source": [
    "def porcentagem_do_todo(col_total, col_parcial):\n",
    "    return (tempos[col_parcial].mean() * 100) / tempos[col_total].mean()"
   ]
  },
  {
   "cell_type": "code",
   "execution_count": 102,
   "id": "97b14fe5-9b9c-4c14-b354-4d403410c816",
   "metadata": {},
   "outputs": [
    {
     "name": "stdout",
     "output_type": "stream",
     "text": [
      "função  | tempo (s) | porcentagem (%)\n",
      "j1      | 30.409    | 100\n",
      "gn      | 15.224    | 50.065\n",
      "gn1     | 15.165    | 49.871\n",
      "ot      | 0.008     | 0.026\n",
      "op      | 0.008     | 0.027\n"
     ]
    }
   ],
   "source": [
    "print(f'função  | tempo (s) | porcentagem (%)')\n",
    "print(f'j1      | {media(\"j1\"):.3f}    | 100')\n",
    "print(f'gn      | {media(\"gn\"):.3f}    | {porcentagem_do_todo(\"j1\", \"gn\"):.3f}')\n",
    "print(f'gn1     | {media(\"gn1\"):.3f}    | {porcentagem_do_todo(\"j1\", \"gn1\"):.3f}')\n",
    "print(f'ot      | {media(\"ot\"):.3f}     | {porcentagem_do_todo(\"j1\", \"ot\"):.3f}')\n",
    "print(f'op      | {media(\"op\"):.3f}     | {porcentagem_do_todo(\"j1\", \"op\"):.3f}')"
   ]
  },
  {
   "cell_type": "markdown",
   "id": "b1d55a15-30fa-42dc-9559-3bbe018388ec",
   "metadata": {},
   "source": [
    "Calcular a variancia"
   ]
  },
  {
   "cell_type": "code",
   "execution_count": 20,
   "id": "7e12fa29-abbc-40de-8053-6a244c4d1816",
   "metadata": {},
   "outputs": [
    {
     "data": {
      "text/plain": [
       "1489.14854478263"
      ]
     },
     "execution_count": 20,
     "metadata": {},
     "output_type": "execute_result"
    }
   ],
   "source": [
    "tempos['j1'].var()"
   ]
  }
 ],
 "metadata": {
  "kernelspec": {
   "display_name": "Python 3",
   "language": "python",
   "name": "python3"
  },
  "language_info": {
   "codemirror_mode": {
    "name": "ipython",
    "version": 3
   },
   "file_extension": ".py",
   "mimetype": "text/x-python",
   "name": "python",
   "nbconvert_exporter": "python",
   "pygments_lexer": "ipython3",
   "version": "3.11.2"
  },
  "vscode": {
   "interpreter": {
    "hash": "916dbcbb3f70747c44a77c7bcd40155683ae19c65e1c03b4aa3499c5328201f1"
   }
  }
 },
 "nbformat": 4,
 "nbformat_minor": 5
}
