{
 "cells": [
  {
   "cell_type": "code",
   "execution_count": 1,
   "id": "12d9ad42-bc40-4b2c-bbd0-dfde82578cec",
   "metadata": {},
   "outputs": [],
   "source": [
    "import pandas as pd\n",
    "from create_graph import plot_graphic\n",
    "import numpy as np\n",
    "import json"
   ]
  },
  {
   "cell_type": "code",
   "execution_count": 65,
   "id": "bb26ac43-29cb-412e-a988-38ced32a4e12",
   "metadata": {},
   "outputs": [],
   "source": [
    "file_name = \"GB3PVZ0S016\"\n",
    "file_result = \"./outputs/graph_result/\"+file_name+\".csv\"\n",
    "file_config = \"./inputs/\"+file_name+\".json\""
   ]
  },
  {
   "cell_type": "code",
   "execution_count": 66,
   "id": "876779ff-eced-40ea-add6-a4b94baab20e",
   "metadata": {},
   "outputs": [],
   "source": [
    "with open(file_config, \"r\") as read_json_file:\n",
    "    info_graph_input = json.load(read_json_file)"
   ]
  },
  {
   "cell_type": "code",
   "execution_count": 67,
   "id": "3919805d-c2a2-423d-bd88-211ef9099c11",
   "metadata": {},
   "outputs": [
    {
     "data": {
      "text/plain": [
       "'Gaussian Beam with 3 Particles Varying values of z0 and s=0.16'"
      ]
     },
     "execution_count": 67,
     "metadata": {},
     "output_type": "execute_result"
    }
   ],
   "source": [
    "info_graph_input[\"full_name\"]"
   ]
  },
  {
   "cell_type": "code",
   "execution_count": 68,
   "id": "e8982e66-104d-43e7-b231-b0cf4ed3bc2e",
   "metadata": {},
   "outputs": [],
   "source": [
    "info_graph = pd.read_csv(file_result, header=None)"
   ]
  },
  {
   "cell_type": "code",
   "execution_count": 69,
   "id": "59342059-935a-4139-91b6-e72f34550fef",
   "metadata": {},
   "outputs": [
    {
     "data": {
      "text/html": [
       "<div>\n",
       "<style scoped>\n",
       "    .dataframe tbody tr th:only-of-type {\n",
       "        vertical-align: middle;\n",
       "    }\n",
       "\n",
       "    .dataframe tbody tr th {\n",
       "        vertical-align: top;\n",
       "    }\n",
       "\n",
       "    .dataframe thead th {\n",
       "        text-align: right;\n",
       "    }\n",
       "</style>\n",
       "<table border=\"1\" class=\"dataframe\">\n",
       "  <thead>\n",
       "    <tr style=\"text-align: right;\">\n",
       "      <th></th>\n",
       "      <th>0</th>\n",
       "      <th>1</th>\n",
       "      <th>2</th>\n",
       "      <th>3</th>\n",
       "      <th>4</th>\n",
       "      <th>5</th>\n",
       "      <th>6</th>\n",
       "      <th>7</th>\n",
       "      <th>8</th>\n",
       "      <th>9</th>\n",
       "      <th>...</th>\n",
       "      <th>292</th>\n",
       "      <th>293</th>\n",
       "      <th>294</th>\n",
       "      <th>295</th>\n",
       "      <th>296</th>\n",
       "      <th>297</th>\n",
       "      <th>298</th>\n",
       "      <th>299</th>\n",
       "      <th>300</th>\n",
       "      <th>301</th>\n",
       "    </tr>\n",
       "  </thead>\n",
       "  <tbody>\n",
       "    <tr>\n",
       "      <th>0</th>\n",
       "      <td>x:0.1|m:(1.57-0.038j)</td>\n",
       "      <td>name:Gaussian Beam</td>\n",
       "      <td>-0.000002</td>\n",
       "      <td>-0.000002</td>\n",
       "      <td>-0.000002</td>\n",
       "      <td>-0.000002</td>\n",
       "      <td>-0.000002</td>\n",
       "      <td>-0.000002</td>\n",
       "      <td>-0.000002</td>\n",
       "      <td>-0.000002</td>\n",
       "      <td>...</td>\n",
       "      <td>1.284448e-07</td>\n",
       "      <td>1.236858e-07</td>\n",
       "      <td>1.190072e-07</td>\n",
       "      <td>1.144084e-07</td>\n",
       "      <td>1.098889e-07</td>\n",
       "      <td>1.054481e-07</td>\n",
       "      <td>1.010854e-07</td>\n",
       "      <td>9.680014e-08</td>\n",
       "      <td>9.259162e-08</td>\n",
       "      <td>8.845911e-08</td>\n",
       "    </tr>\n",
       "    <tr>\n",
       "      <th>1</th>\n",
       "      <td>x:3|m:(1.57-0.038j)</td>\n",
       "      <td>name:Gaussian Beam</td>\n",
       "      <td>0.012784</td>\n",
       "      <td>0.012894</td>\n",
       "      <td>0.013006</td>\n",
       "      <td>0.013119</td>\n",
       "      <td>0.013233</td>\n",
       "      <td>0.013348</td>\n",
       "      <td>0.013465</td>\n",
       "      <td>0.013583</td>\n",
       "      <td>...</td>\n",
       "      <td>1.690098e-02</td>\n",
       "      <td>1.674203e-02</td>\n",
       "      <td>1.658486e-02</td>\n",
       "      <td>1.642944e-02</td>\n",
       "      <td>1.627577e-02</td>\n",
       "      <td>1.612382e-02</td>\n",
       "      <td>1.597359e-02</td>\n",
       "      <td>1.582504e-02</td>\n",
       "      <td>1.567818e-02</td>\n",
       "      <td>1.553297e-02</td>\n",
       "    </tr>\n",
       "    <tr>\n",
       "      <th>2</th>\n",
       "      <td>x:8|m:(1.57-0.038j)</td>\n",
       "      <td>name:Gaussian Beam</td>\n",
       "      <td>0.000633</td>\n",
       "      <td>0.000559</td>\n",
       "      <td>0.000485</td>\n",
       "      <td>0.000408</td>\n",
       "      <td>0.000330</td>\n",
       "      <td>0.000251</td>\n",
       "      <td>0.000170</td>\n",
       "      <td>0.000088</td>\n",
       "      <td>...</td>\n",
       "      <td>9.801335e-03</td>\n",
       "      <td>9.814638e-03</td>\n",
       "      <td>9.826321e-03</td>\n",
       "      <td>9.836421e-03</td>\n",
       "      <td>9.844976e-03</td>\n",
       "      <td>9.852025e-03</td>\n",
       "      <td>9.857603e-03</td>\n",
       "      <td>9.861749e-03</td>\n",
       "      <td>9.864498e-03</td>\n",
       "      <td>9.865886e-03</td>\n",
       "    </tr>\n",
       "  </tbody>\n",
       "</table>\n",
       "<p>3 rows × 302 columns</p>\n",
       "</div>"
      ],
      "text/plain": [
       "                     0                   1         2         3         4    \\\n",
       "0  x:0.1|m:(1.57-0.038j)  name:Gaussian Beam -0.000002 -0.000002 -0.000002   \n",
       "1    x:3|m:(1.57-0.038j)  name:Gaussian Beam  0.012784  0.012894  0.013006   \n",
       "2    x:8|m:(1.57-0.038j)  name:Gaussian Beam  0.000633  0.000559  0.000485   \n",
       "\n",
       "        5         6         7         8         9    ...           292  \\\n",
       "0 -0.000002 -0.000002 -0.000002 -0.000002 -0.000002  ...  1.284448e-07   \n",
       "1  0.013119  0.013233  0.013348  0.013465  0.013583  ...  1.690098e-02   \n",
       "2  0.000408  0.000330  0.000251  0.000170  0.000088  ...  9.801335e-03   \n",
       "\n",
       "            293           294           295           296           297  \\\n",
       "0  1.236858e-07  1.190072e-07  1.144084e-07  1.098889e-07  1.054481e-07   \n",
       "1  1.674203e-02  1.658486e-02  1.642944e-02  1.627577e-02  1.612382e-02   \n",
       "2  9.814638e-03  9.826321e-03  9.836421e-03  9.844976e-03  9.852025e-03   \n",
       "\n",
       "            298           299           300           301  \n",
       "0  1.010854e-07  9.680014e-08  9.259162e-08  8.845911e-08  \n",
       "1  1.597359e-02  1.582504e-02  1.567818e-02  1.553297e-02  \n",
       "2  9.857603e-03  9.861749e-03  9.864498e-03  9.865886e-03  \n",
       "\n",
       "[3 rows x 302 columns]"
      ]
     },
     "execution_count": 69,
     "metadata": {},
     "output_type": "execute_result"
    }
   ],
   "source": [
    "info_graph"
   ]
  },
  {
   "cell_type": "code",
   "execution_count": 9,
   "id": "f8125b86-453e-443a-b32a-5b223edec213",
   "metadata": {},
   "outputs": [],
   "source": [
    "# info_graph.iloc[:, 2:]"
   ]
  },
  {
   "cell_type": "code",
   "execution_count": 70,
   "id": "472b222c-97b9-4f05-8fbd-329989c2efb1",
   "metadata": {},
   "outputs": [],
   "source": [
    "numbers = info_graph.iloc[:, 2:]"
   ]
  },
  {
   "cell_type": "code",
   "execution_count": 57,
   "id": "0419e1a3-fbb2-44a4-9061-6dc0649c83ab",
   "metadata": {},
   "outputs": [],
   "source": [
    "# numbers.iloc[2, :]"
   ]
  },
  {
   "cell_type": "code",
   "execution_count": 58,
   "id": "2f159956-8984-442c-ba9f-c2ddcbd25a6b",
   "metadata": {},
   "outputs": [],
   "source": [
    "# index_list = [0,1]\n",
    "# numbers.loc[numbers.index[2]]"
   ]
  },
  {
   "cell_type": "code",
   "execution_count": 72,
   "id": "bd6bc5b1-1b3b-4214-982b-84aae72d4431",
   "metadata": {},
   "outputs": [],
   "source": [
    "result_0 = info_graph.iloc[0, 2:].values*1000\n",
    "result_1 = info_graph.iloc[1, 2:].values\n",
    "result_2 = info_graph.iloc[2, 2:].values"
   ]
  },
  {
   "cell_type": "code",
   "execution_count": 71,
   "id": "3704cb33-a6e9-44a7-a998-2f5f459798bf",
   "metadata": {},
   "outputs": [
    {
     "data": {
      "text/plain": [
       "{'x_label': 'Relative position $z_0$ (µ_m)',\n",
       " 'y_label': 'Asymmetry Factor $J_1(x)$',\n",
       " 'legend': ['x=0.1*1000', 'x=3', 'x=8'],\n",
       " 'x_values': {'begin': -60, 'end': 60, 'qnt_points': 300}}"
      ]
     },
     "execution_count": 71,
     "metadata": {},
     "output_type": "execute_result"
    }
   ],
   "source": [
    "info_graph_input[\"graph\"]"
   ]
  },
  {
   "cell_type": "code",
   "execution_count": 11,
   "id": "77c162f8-4575-49d6-a9c9-092457806ecb",
   "metadata": {},
   "outputs": [],
   "source": [
    "# result_1"
   ]
  },
  {
   "cell_type": "code",
   "execution_count": 73,
   "id": "694342b5-b750-43bf-be53-dac97ec6408a",
   "metadata": {},
   "outputs": [],
   "source": [
    "begin = info_graph_input[\"graph\"][\"x_values\"][\"begin\"]\n",
    "end = info_graph_input[\"graph\"][\"x_values\"][\"end\"]\n",
    "qnt_values = info_graph_input[\"graph\"][\"x_values\"][\"qnt_points\"]\n",
    "\n",
    "x = np.linspace(begin, end, qnt_values)"
   ]
  },
  {
   "cell_type": "code",
   "execution_count": 74,
   "id": "baa7c468-94da-42a3-a0d9-a6f0b3f9f49e",
   "metadata": {},
   "outputs": [
    {
     "data": {
      "image/png": "[encoded data removed]",
      "text/plain": [
       "<Figure size 504x360 with 1 Axes>"
      ]
     },
     "metadata": {
      "needs_background": "light"
     },
     "output_type": "display_data"
    }
   ],
   "source": [
    "results = [result_0,result_1,result_2]\n",
    "x_label = info_graph_input[\"graph\"][\"x_label\"]\n",
    "y_label = info_graph_input[\"graph\"][\"y_label\"]\n",
    "# legend = [\"M = 1.57 - i0.038\", \"M = 1.57 - i0.19\", \"M = 1.57 - i0.95\"]\n",
    "legend = info_graph_input[\"graph\"][\"legend\"]\n",
    "\n",
    "plot_graphic(results, x, x_label, y_label, legend)"
   ]
  },
  {
   "cell_type": "code",
   "execution_count": null,
   "id": "44959831-407f-4e7c-b8ab-27141e150033",
   "metadata": {},
   "outputs": [],
   "source": []
  }
 ],
 "metadata": {
  "kernelspec": {
   "display_name": "Python 3 (ipykernel)",
   "language": "python",
   "name": "python3"
  },
  "language_info": {
   "codemirror_mode": {
    "name": "ipython",
    "version": 3
   },
   "file_extension": ".py",
   "mimetype": "text/x-python",
   "name": "python",
   "nbconvert_exporter": "python",
   "pygments_lexer": "ipython3",
   "version": "3.9.16"
  }
 },
 "nbformat": 4,
 "nbformat_minor": 5
}
